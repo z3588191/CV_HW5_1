{
 "cells": [
  {
   "cell_type": "code",
   "execution_count": 19,
   "metadata": {},
   "outputs": [],
   "source": [
    "import numpy as np\n",
    "import PIL.Image as Image\n",
    "import glob\n",
    "import cv2 \n",
    "code2label = {\n",
    "    \"Bedroom\":0,\n",
    "    \"Coast\":1,\n",
    "    \"Forest\":2,\n",
    "    \"Highway\":3,\n",
    "    \"Industrial\":4,\n",
    "    \"InsideCity\":5,\n",
    "    \"Kitchen\":6,\n",
    "    \"LivingRoom\":7,\n",
    "    \"Mountain\":8,\n",
    "    \"Office\":9,\n",
    "    \"OpenCountry\":10,\n",
    "    \"Store\":11,\n",
    "    \"Street\":12,\n",
    "    \"Suburb\":13,\n",
    "    \"TallBuilding\":14\n",
    "}\n",
    "def load_img2np(filepath):\n",
    "    img = cv2.imread(filepath,cv2.IMREAD_GRAYSCALE)\n",
    "    return cv2.resize(img, (16, 16))\n",
    "def load_data(path):\n",
    "    path_pattern = path + '/**/*.jpg'\n",
    "    files_list = glob.glob(path_pattern, recursive=True)\n",
    "    images = []\n",
    "    labels = []\n",
    "    for file_name in files_list:\n",
    "        label_name = file_name.split('\\\\')[1]\n",
    "        images.append(load_img2np(file_name))\n",
    "        labels.append(code2label[label_name])\n",
    "    return np.asarray(images), np.asarray(labels)\n",
    "image_train, label_train = load_data('hw5_data/train')\n",
    "image_test, label_test = load_data('hw5_data/test')"
   ]
  },
  {
   "cell_type": "code",
   "execution_count": 42,
   "metadata": {},
   "outputs": [
    {
     "name": "stdout",
     "output_type": "stream",
     "text": [
      "acc: 20.67%\n"
     ]
    }
   ],
   "source": [
    "# K-NN\n",
    "from collections import deque\n",
    "def distance(img1,img2):\n",
    "    return np.mean(np.square(img1-img2))\n",
    "K = 25\n",
    "acc = 0\n",
    "for img_test, label in zip(image_test,label_test):\n",
    "    nn = deque()\n",
    "    for i, img_train in enumerate(image_train):\n",
    "        dist = distance(img_test,img_train)\n",
    "        if i == 0:\n",
    "            nn.append((i,dist))\n",
    "            continue\n",
    "        for j in range(len(nn)):\n",
    "            if dist < nn[j][1]:\n",
    "                nn.insert(j,(i,dist))\n",
    "                if len(nn) > K:\n",
    "                    nn.pop()\n",
    "                break\n",
    "    count = np.zeros(15)\n",
    "    for (idx,dist) in nn:\n",
    "        count[label_train[idx]] += 1\n",
    "    pred = count.argmax()\n",
    "    acc += (label == pred)\n",
    "print(\"acc: {:.2f}%\".format(acc/label_test.shape[0]*100.))"
   ]
  }
 ],
 "metadata": {
  "kernelspec": {
   "display_name": "Python 3",
   "language": "python",
   "name": "python3"
  },
  "language_info": {
   "codemirror_mode": {
    "name": "ipython",
    "version": 3
   },
   "file_extension": ".py",
   "mimetype": "text/x-python",
   "name": "python",
   "nbconvert_exporter": "python",
   "pygments_lexer": "ipython3",
   "version": "3.7.3"
  },
  "varInspector": {
   "cols": {
    "lenName": 16,
    "lenType": 16,
    "lenVar": 40
   },
   "kernels_config": {
    "python": {
     "delete_cmd_postfix": "",
     "delete_cmd_prefix": "del ",
     "library": "var_list.py",
     "varRefreshCmd": "print(var_dic_list())"
    },
    "r": {
     "delete_cmd_postfix": ") ",
     "delete_cmd_prefix": "rm(",
     "library": "var_list.r",
     "varRefreshCmd": "cat(var_dic_list()) "
    }
   },
   "types_to_exclude": [
    "module",
    "function",
    "builtin_function_or_method",
    "instance",
    "_Feature"
   ],
   "window_display": false
  }
 },
 "nbformat": 4,
 "nbformat_minor": 2
}
